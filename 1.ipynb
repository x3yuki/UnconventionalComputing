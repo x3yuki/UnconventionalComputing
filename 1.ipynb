{
 "cells": [
  {
   "cell_type": "code",
   "execution_count": 6,
   "metadata": {},
   "outputs": [],
   "source": [
    "import matplotlib.pyplot as plt\n",
    "import numpy as np\n",
    "from scipy.integrate import odeint"
   ]
  },
  {
   "cell_type": "code",
   "execution_count": 2,
   "metadata": {},
   "outputs": [],
   "source": [
    "t_step = 1\n",
    "t_max = 100\n",
    "t = np.arange(0, t_max, t_step)"
   ]
  },
  {
   "cell_type": "code",
   "execution_count": 3,
   "metadata": {},
   "outputs": [],
   "source": [
    "flow_rate = 0.1\n",
    "\n",
    "hole = 0.5\n",
    "hole_max = 1.0\n",
    "Ir_hole = 0.1\n",
    "hole_type_infinite = True\n",
    "\n",
    "hole_value = 0.0 if hole == 0.0 else 1.0 if hole_type_infinite else hole_max - hole"
   ]
  },
  {
   "cell_type": "code",
   "execution_count": 4,
   "metadata": {},
   "outputs": [],
   "source": [
    "# We can use dictionary and make these integrated\n",
    "\n",
    "def ds_dt(inpaths, outpathsnum, s):\n",
    "    ret = 0.0\n",
    "    for p in inpaths:\n",
    "        ret += flow_rate * p\n",
    "    for i in range(outpathsnum):\n",
    "        ret -= flow_rate * s\n",
    "    return ret\n",
    "\n",
    "def dp_dt(inputs, outputsnum, p, hole_value):\n",
    "    ret = -1* Ir_hole * hole_value * p\n",
    "    for s in inputs:\n",
    "        ret += flow_rate * s\n",
    "    for i in range(outputsnum):\n",
    "        ret -= flow_rate * p\n",
    "    return ret"
   ]
  },
  {
   "cell_type": "code",
   "execution_count": 22,
   "metadata": {},
   "outputs": [],
   "source": [
    "# ex. 1\n",
    "init_state_ex1 = [1.0, 0.0, 0.0] # ◯ - ◯\n",
    "\n",
    "x = np.empty(t_max)\n",
    "p = np.empty(t_max)\n",
    "y = np.empty(t_max)\n",
    "x[0] = init_state_ex1[0]\n",
    "p[0] = init_state_ex1[1]\n",
    "y[0] = init_state_ex1[2]\n",
    "\n",
    "for i in range(0, t_max - 1):\n",
    "    x[i + 1] = max(x[i] + ds_dt([], 1, x[i]), 0.0)\n",
    "    p[i + 1] = max(p[i] + dp_dt([x[i]], 1, p[i], hole_value), 0.0)\n",
    "    y[i + 1] = max(y[i] + ds_dt([p[i]], 0, y[i]), 0.0)"
   ]
  },
  {
   "cell_type": "code",
   "execution_count": 23,
   "metadata": {
    "scrolled": true
   },
   "outputs": [
    {
     "name": "stdout",
     "output_type": "stream",
     "text": [
      "hole_value:  1.0\n"
     ]
    },
    {
     "data": {
      "image/png": "[encoded data removed]",
      "text/plain": [
       "<Figure size 432x288 with 1 Axes>"
      ]
     },
     "metadata": {},
     "output_type": "display_data"
    }
   ],
   "source": [
    "plt.plot(t, x, label='x', color='red')\n",
    "plt.plot(t, p, label='p', color='blue')\n",
    "plt.plot(t, y, label='y', color='green')\n",
    "plt.grid(which='major',color='gray',linestyle='-')\n",
    "print(\"hole_value: \", hole_value)"
   ]
  },
  {
   "cell_type": "code",
   "execution_count": 24,
   "metadata": {},
   "outputs": [],
   "source": [
    "# ex. 2\n",
    "init_state_ex1 = [1.0, 1.0, # ◯ ◯\n",
    "                                0.0, 0.0, # - -\n",
    "                                0.0,         # -   -0.5\n",
    "                                0.0, 0.0, # - -\n",
    "                                0.0, 0.0] # ◯ ◯\n",
    "\n",
    "x1 = np.empty(t_max)\n",
    "x2 = np.empty(t_max)\n",
    "p1 = np.empty(t_max)\n",
    "p2 = np.empty(t_max)\n",
    "p3 = np.empty(t_max)\n",
    "p4 = np.empty(t_max)\n",
    "p5 = np.empty(t_max)\n",
    "y1 = np.empty(t_max)\n",
    "y2 = np.empty(t_max)\n",
    "x1[0] = init_state_ex1[0]\n",
    "x2[0] = init_state_ex1[1]\n",
    "p1[0] = init_state_ex1[2]\n",
    "p2[0] = init_state_ex1[3]\n",
    "p3[0] = init_state_ex1[4]\n",
    "p4[0] = init_state_ex1[5]\n",
    "p5[0] = init_state_ex1[6]\n",
    "y1[0] = init_state_ex1[7]\n",
    "y2[0] = init_state_ex1[8]\n",
    "\n",
    "for i in range(0, t_max - 1):\n",
    "    x1[i + 1] = max(x1[i] + ds_dt([], 1, x1[i]), 0.0)\n",
    "    x2[i + 1] = max(x2[i] + ds_dt([], 1, x2[i]), 0.0)\n",
    "    p1[i + 1] = max(p1[i] + dp_dt([x1[i]], 1, p1[i], 0.0), 0.0)\n",
    "    p2[i + 1] = max(p2[i] + dp_dt([x2[i]], 1, p2[i], 0.0), 0.0)\n",
    "    p3[i + 1] = max(p3[i] + dp_dt([p1[i], p2[i]], 2, p3[i], hole_value), 0.0)\n",
    "    p4[i + 1] = max(p4[i] + dp_dt([p3[i]], 1, p4[i], 0.0), 0.0)\n",
    "    p5[i + 1] = max(p5[i] + dp_dt([p3[i]], 1, p5[i], 0.0), 0.0)\n",
    "    y1[i + 1] = max(y1[i] + ds_dt([p4[i]], 0, y1[i]), 0.0)\n",
    "    y2[i + 1] = max(y2[i] + ds_dt([p5[i]], 0, y2[i]), 0.0)"
   ]
  },
  {
   "cell_type": "code",
   "execution_count": 25,
   "metadata": {},
   "outputs": [
    {
     "name": "stdout",
     "output_type": "stream",
     "text": [
      "hole_value:  1.0\n"
     ]
    },
    {
     "data": {
      "image/png": "[encoded data removed]",
      "text/plain": [
       "<Figure size 432x288 with 1 Axes>"
      ]
     },
     "metadata": {},
     "output_type": "display_data"
    }
   ],
   "source": [
    "plt.plot(t, x1, label='x1', color='red')\n",
    "plt.plot(t, x2, label='x2', color='magenta')\n",
    "plt.plot(t, y1, label='y1', color='blue')\n",
    "plt.plot(t, y2, label='y2', color='cyan')\n",
    "plt.grid(which='major',color='gray',linestyle='-')\n",
    "print(\"hole_value: \", hole_value)"
   ]
  },
  {
   "cell_type": "code",
   "execution_count": 7,
   "metadata": {},
   "outputs": [],
   "source": [
    "# ex. 3\n",
    "init_state_ex3 = [1.0, 1.0, # ◯ ◯\n",
    "                                0.0,         # -\n",
    "                                0.0, 0.0, # - -\n",
    "                                0.0, 0.0] # ◯ ◯\n",
    "\n",
    "def model(y, t):\n",
    "    dx1dt = ds_dt([], 1, y[0])\n",
    "    dx2dt = ds_dt([], 1, y[1])\n",
    "    dp1dt = dp_dt([y[0], y[1]], 2, y[2], 0.0)\n",
    "    dp2dt = dp_dt([y[2]], 1, y[3], 0.0)\n",
    "    dp3dt = dp_dt([y[2]], 1, y[4], hole_value)\n",
    "    dy1dt = ds_dt([y[3]], 0, y[5])\n",
    "    dy2dt = ds_dt([y[4]], 0, y[6])\n",
    "    return [dx1dt, dx2dt, dp1dt, dp2dt, dp3dt, dy1dt, dy2dt]\n",
    "\n",
    "\n",
    "# Adam: stable and slow\n",
    "# Runge\n",
    "result = odeint(model, init_state_ex3, t)"
   ]
  },
  {
   "cell_type": "code",
   "execution_count": 9,
   "metadata": {},
   "outputs": [
    {
     "name": "stdout",
     "output_type": "stream",
     "text": [
      "hole_value:  1.0\n"
     ]
    },
    {
     "data": {
      "image/png": "[encoded data removed]",
      "text/plain": [
       "<Figure size 432x288 with 1 Axes>"
      ]
     },
     "metadata": {},
     "output_type": "display_data"
    }
   ],
   "source": [
    "plt.plot(t, result[:,0], label='x1', color='red')\n",
    "plt.plot(t, result[:,1], label='x2', color='magenta')\n",
    "plt.plot(t, result[:,5], label='y1', color='blue')\n",
    "plt.plot(t, result[:,6], label='y2', color='cyan')\n",
    "plt.grid(which='major',color='gray',linestyle='-')\n",
    "print(\"hole_value: \", hole_value)"
   ]
  },
  {
   "cell_type": "code",
   "execution_count": null,
   "metadata": {},
   "outputs": [],
   "source": []
  }
 ],
 "metadata": {
  "kernelspec": {
   "display_name": "Python 3",
   "language": "python",
   "name": "python3"
  },
  "language_info": {
   "codemirror_mode": {
    "name": "ipython",
    "version": 3
   },
   "file_extension": ".py",
   "mimetype": "text/x-python",
   "name": "python",
   "nbconvert_exporter": "python",
   "pygments_lexer": "ipython3",
   "version": "3.6.5"
  }
 },
 "nbformat": 4,
 "nbformat_minor": 2
}
